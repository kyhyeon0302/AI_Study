{
  "cells": [
    {
      "cell_type": "code",
      "execution_count": 4,
      "metadata": {
        "colab": {
          "base_uri": "https://localhost:8080/"
        },
        "id": "Bn-dmGgx-NRY",
        "outputId": "adbb7d09-e820-49af-994f-610121d2dab4"
      },
      "outputs": [
        {
          "name": "stdout",
          "output_type": "stream",
          "text": [
            "Model: \"sequential_3\"\n",
            "_________________________________________________________________\n",
            " Layer (type)                Output Shape              Param #   \n",
            "=================================================================\n",
            " conv2d_6 (Conv2D)           (None, 28, 28, 1)         785       \n",
            "                                                                 \n",
            " max_pooling2d_6 (MaxPooling  (None, 14, 14, 1)        0         \n",
            " 2D)                                                             \n",
            "                                                                 \n",
            " conv2d_7 (Conv2D)           (None, 14, 14, 128)       100480    \n",
            "                                                                 \n",
            " max_pooling2d_7 (MaxPooling  (None, 7, 7, 128)        0         \n",
            " 2D)                                                             \n",
            "                                                                 \n",
            " flatten_3 (Flatten)         (None, 6272)              0         \n",
            "                                                                 \n",
            " dense_6 (Dense)             (None, 512)               3211776   \n",
            "                                                                 \n",
            " dropout_3 (Dropout)         (None, 512)               0         \n",
            "                                                                 \n",
            " dense_7 (Dense)             (None, 10)                5130      \n",
            "                                                                 \n",
            "=================================================================\n",
            "Total params: 3,318,171\n",
            "Trainable params: 3,318,171\n",
            "Non-trainable params: 0\n",
            "_________________________________________________________________\n",
            "Epoch 1/10\n",
            "329/329 [==============================] - 8s 22ms/step - loss: 0.3069 - accuracy: 0.9031 - val_loss: 0.1158 - val_accuracy: 0.9654\n",
            "Epoch 2/10\n",
            "329/329 [==============================] - 7s 21ms/step - loss: 0.1064 - accuracy: 0.9675 - val_loss: 0.0984 - val_accuracy: 0.9700\n",
            "Epoch 3/10\n",
            "329/329 [==============================] - 7s 21ms/step - loss: 0.0727 - accuracy: 0.9770 - val_loss: 0.1043 - val_accuracy: 0.9676\n",
            "Epoch 4/10\n",
            "329/329 [==============================] - 7s 21ms/step - loss: 0.0591 - accuracy: 0.9809 - val_loss: 0.0704 - val_accuracy: 0.9797\n",
            "Epoch 5/10\n",
            "329/329 [==============================] - 7s 21ms/step - loss: 0.0469 - accuracy: 0.9847 - val_loss: 0.0670 - val_accuracy: 0.9798\n",
            "Epoch 6/10\n",
            "329/329 [==============================] - 7s 22ms/step - loss: 0.0352 - accuracy: 0.9881 - val_loss: 0.0610 - val_accuracy: 0.9816\n",
            "Epoch 7/10\n",
            "329/329 [==============================] - 7s 22ms/step - loss: 0.0322 - accuracy: 0.9897 - val_loss: 0.0636 - val_accuracy: 0.9825\n",
            "Epoch 8/10\n",
            "329/329 [==============================] - 7s 21ms/step - loss: 0.0271 - accuracy: 0.9910 - val_loss: 0.0665 - val_accuracy: 0.9814\n",
            "Epoch 9/10\n",
            "329/329 [==============================] - 7s 21ms/step - loss: 0.0221 - accuracy: 0.9924 - val_loss: 0.0705 - val_accuracy: 0.9813\n",
            "Epoch 10/10\n",
            "329/329 [==============================] - 7s 21ms/step - loss: 0.0222 - accuracy: 0.9929 - val_loss: 0.0708 - val_accuracy: 0.9820\n",
            "Epoch 1/5\n",
            "1875/1875 [==============================] - 9s 4ms/step - loss: 0.0984 - accuracy: 0.9725\n",
            "Epoch 2/5\n",
            "1875/1875 [==============================] - 8s 4ms/step - loss: 0.0567 - accuracy: 0.9832\n",
            "Epoch 3/5\n",
            "1875/1875 [==============================] - 8s 4ms/step - loss: 0.0496 - accuracy: 0.9855\n",
            "Epoch 4/5\n",
            "1875/1875 [==============================] - 8s 4ms/step - loss: 0.0464 - accuracy: 0.9875\n",
            "Epoch 5/5\n",
            "1875/1875 [==============================] - 8s 4ms/step - loss: 0.0427 - accuracy: 0.9882\n",
            "313/313 - 1s - loss: 0.0920 - accuracy: 0.9781 - 1s/epoch - 3ms/step\n",
            "313/313 [==============================] - 1s 3ms/step - loss: 0.0920 - accuracy: 0.9781\n",
            "검증결과\n",
            "test loss= 0.09198246151208878\n",
            "test accuracy =  0.9781000018119812\n"
          ]
        }
      ],
      "source": [
        "from tensorflow import keras #라이브러리 로드\n",
        "from keras.layers import Dropout, Activation, Dense, Flatten\n",
        "from keras.datasets import cifar100\n",
        "from keras.layers import Convolution2D, MaxPooling2D\n",
        "from keras.layers import BatchNormalization\n",
        "import numpy as np\n",
        "import matplotlib.pyplot as plt\n",
        "import tensorflow as tf\n",
        "\n",
        "dataset = keras.datasets.mnist  \n",
        "(train_X, train_Y), (test_X, test_Y) =dataset.load_data() # 불러온 데이터 셋을 학습 데이터와 검증 데이터로 정의한다.\n",
        "train_X, test_X = train_X/255, test_X/255  \n",
        "\n",
        "\n",
        "model = tf.keras.models.Sequential([\n",
        "    tf.keras.layers.Conv2D(1,(28,28), padding = 'same', activation = 'relu', input_shape = (28, 28,1)),\n",
        "    tf.keras.layers.MaxPool2D(pool_size=(2,2), padding = 'valid'),\n",
        "    tf.keras.layers.Conv2D(128,(28,28), padding = 'same', activation = 'relu'),\n",
        "    tf.keras.layers.MaxPool2D(pool_size=(2,2), padding = 'valid'),\n",
        "    tf.keras.layers.Flatten(),\n",
        "    tf.keras.layers.Dense(512, activation = 'relu'),\n",
        "    tf.keras.layers.Dropout(0.5),\n",
        "    tf.keras.layers.Dense(10, activation = 'softmax')\n",
        "])\n",
        "\n",
        "model.compile(optimizer = 'Adam' , loss = 'sparse_categorical_crossentropy', metrics = ['accuracy']) #optimizer,loss, metircs 설정\n",
        "model.summary()\n",
        "\n",
        "model.fit(train_X, train_Y, epochs=10, batch_size= 128, validation_split = 0.3)\n",
        "\n",
        "\n",
        "x_train2 = tf.reshape(train_X, [-1,28,28,1])\n",
        "model.fit(x_train2, train_Y, epochs=5)\n",
        "\n",
        "x_test2 = tf.reshape(test_X, [-1, 28, 28,1])\n",
        "model.evaluate(x_test2,test_Y,verbose=2 )\n",
        "\n",
        "test_loss, test_accuracy = model.evaluate(test_X, test_Y)\n",
        "print('검증결과')\n",
        "print('test loss=', test_loss)\n",
        "print('test accuracy = ', test_accuracy)\n"
      ]
    },
    {
      "cell_type": "code",
      "execution_count": null,
      "metadata": {
        "id": "kQdxqQ1HUbPy"
      },
      "outputs": [],
      "source": []
    },
    {
      "cell_type": "code",
      "execution_count": null,
      "metadata": {
        "id": "efyq4vVUC78u"
      },
      "outputs": [],
      "source": []
    }
  ],
  "metadata": {
    "accelerator": "GPU",
    "colab": {
      "provenance": []
    },
    "gpuClass": "standard",
    "kernelspec": {
      "display_name": "Python 3",
      "name": "python3"
    },
    "language_info": {
      "name": "python"
    }
  },
  "nbformat": 4,
  "nbformat_minor": 0
}
